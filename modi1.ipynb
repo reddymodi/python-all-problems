{
 "cells": [
  {
   "cell_type": "code",
   "execution_count": 1,
   "metadata": {},
   "outputs": [
    {
     "ename": "TypeError",
     "evalue": "list indices must be integers or slices, not str",
     "output_type": "error",
     "traceback": [
      "\u001b[1;31m---------------------------------------------------------------------------\u001b[0m",
      "\u001b[1;31mTypeError\u001b[0m                                 Traceback (most recent call last)",
      "Cell \u001b[1;32mIn[1], line 9\u001b[0m\n\u001b[0;32m      7\u001b[0m \u001b[39mwhile\u001b[39;00m i \u001b[39m<\u001b[39m\u001b[39m=\u001b[39m l:\n\u001b[0;32m      8\u001b[0m     \u001b[39mfor\u001b[39;00m i,v \u001b[39min\u001b[39;00m d\u001b[39m.\u001b[39mitems():\n\u001b[1;32m----> 9\u001b[0m         \u001b[39mif\u001b[39;00m v \u001b[39m==\u001b[39m k[i]:\n\u001b[0;32m     10\u001b[0m             m[i]\u001b[39m=\u001b[39mk[i]\n\u001b[0;32m     11\u001b[0m             i \u001b[39m+\u001b[39m\u001b[39m=\u001b[39m \u001b[39m1\u001b[39m\n",
      "\u001b[1;31mTypeError\u001b[0m: list indices must be integers or slices, not str"
     ]
    }
   ],
   "source": [
    "d={\"A\":3, \"b\":1, \"c\":2}\n",
    "k=list(d.values())\n",
    "k.sort()\n",
    "l = len(k)\n",
    "i = 0\n",
    "m={}\n",
    "while i <= l:\n",
    "    for i,v in d.items():\n",
    "        if v == k[i]:\n",
    "            m[i]=k[i]\n",
    "            i += 1\n",
    "print(m)"
   ]
  }
 ],
 "metadata": {
  "kernelspec": {
   "display_name": "Python 3",
   "language": "python",
   "name": "python3"
  },
  "language_info": {
   "codemirror_mode": {
    "name": "ipython",
    "version": 3
   },
   "file_extension": ".py",
   "mimetype": "text/x-python",
   "name": "python",
   "nbconvert_exporter": "python",
   "pygments_lexer": "ipython3",
   "version": "3.11.0"
  },
  "orig_nbformat": 4,
  "vscode": {
   "interpreter": {
    "hash": "c38039a83633e967d99f248a2e2d8845d650f67a62adcdf19f4cf297e22484bc"
   }
  }
 },
 "nbformat": 4,
 "nbformat_minor": 2
}
